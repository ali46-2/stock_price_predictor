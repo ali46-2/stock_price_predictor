{
  "nbformat": 4,
  "nbformat_minor": 0,
  "metadata": {
    "colab": {
      "provenance": []
    },
    "kernelspec": {
      "name": "python3",
      "display_name": "Python 3"
    },
    "language_info": {
      "name": "python"
    },
    "accelerator": "GPU",
    "gpuClass": "standard"
  },
  "cells": [
    {
      "cell_type": "markdown",
      "source": [
        "## Importing Packages"
      ],
      "metadata": {
        "id": "PYqIlhXZuF3d"
      }
    },
    {
      "cell_type": "code",
      "execution_count": null,
      "metadata": {
        "id": "33MFDWEK_QoO"
      },
      "outputs": [],
      "source": [
        "import torch\n",
        "from torch import nn, optim\n",
        "from torch.utils.data import Dataset, DataLoader\n",
        "\n",
        "import numpy as np\n",
        "import pandas as pd\n",
        "import matplotlib.pyplot as plt\n",
        "from datetime import date\n",
        "from tqdm import tqdm"
      ]
    },
    {
      "cell_type": "markdown",
      "source": [
        "## Configuration"
      ],
      "metadata": {
        "id": "baKhk1OauJrh"
      }
    },
    {
      "cell_type": "code",
      "source": [
        "# Number of features in input\n",
        "INPUT_DIMS = 1\n",
        "# Sequence length of input\n",
        "WINDOW_SIZE = 14\n",
        "# Number of hidden layer neurons in LSTM\n",
        "HIDDEN_SIZE = 128\n",
        "# Number of LSTMs\n",
        "NUM_LSTMS = 4\n",
        "\n",
        "BATCH_SIZE = 32\n",
        "EPOCHS = 100\n",
        "\n",
        "DEVICE = 'cuda' if torch.cuda.is_available() else 'cpu'"
      ],
      "metadata": {
        "id": "WNztAAE_pYuH"
      },
      "execution_count": null,
      "outputs": []
    },
    {
      "cell_type": "markdown",
      "source": [
        "## Getting Data from API"
      ],
      "metadata": {
        "id": "HLPwMRmfuedM"
      }
    },
    {
      "cell_type": "code",
      "source": [
        "# Get your API key from https://www.alphavantage.co/support/#api-key\n",
        "api_key = ''\n",
        "ticker = 'IBM'\n",
        "df = pd.read_csv(f'https://www.alphavantage.co/query?function=TIME_SERIES_DAILY_ADJUSTED&symbol={ticker}&outputsize=full&datatype=csv&apikey={api_key}')"
      ],
      "metadata": {
        "id": "guDaus516_2r"
      },
      "execution_count": null,
      "outputs": []
    },
    {
      "cell_type": "markdown",
      "source": [
        "## Train Data (10 Years)"
      ],
      "metadata": {
        "id": "VVSrov9jum4K"
      }
    },
    {
      "cell_type": "code",
      "source": [
        "train_df = df[(df['timestamp'] >= '2012-01-01') & (df['timestamp'] < '2022-01-01')]\n",
        "train_df"
      ],
      "metadata": {
        "colab": {
          "base_uri": "https://localhost:8080/",
          "height": 424
        },
        "id": "3ViNBOKG7GPF",
        "outputId": "3ab60c6c-34dc-467a-e3a8-2f93a0cc19f2"
      },
      "execution_count": null,
      "outputs": [
        {
          "output_type": "execute_result",
          "data": {
            "text/plain": [
              "       timestamp    open    high     low   close  adjusted_close   volume  \\\n",
              "303   2021-12-31  134.00  134.99  133.61  133.66      125.716588  3315313   \n",
              "304   2021-12-30  133.75  134.37  133.33  133.91      125.951730  3158111   \n",
              "305   2021-12-29  132.40  134.21  132.30  133.35      125.425011  4239935   \n",
              "306   2021-12-28  131.60  133.22  131.59  132.63      124.747801  3447079   \n",
              "307   2021-12-27  130.63  131.65  129.95  131.62      123.797825  4294499   \n",
              "...          ...     ...     ...     ...     ...             ...      ...   \n",
              "2815  2012-01-09  182.20  182.27  180.27  181.59      114.027977  5201200   \n",
              "2816  2012-01-06  184.39  184.48  182.31  182.54      114.624521  4897100   \n",
              "2817  2012-01-05  184.81  185.03  183.10  184.66      115.955758  4463100   \n",
              "2818  2012-01-04  185.57  186.33  184.94  185.54      116.508347  4346700   \n",
              "2819  2012-01-03  186.73  188.71  186.00  186.30      116.985583  5646000   \n",
              "\n",
              "      dividend_amount  split_coefficient  \n",
              "303               0.0                1.0  \n",
              "304               0.0                1.0  \n",
              "305               0.0                1.0  \n",
              "306               0.0                1.0  \n",
              "307               0.0                1.0  \n",
              "...               ...                ...  \n",
              "2815              0.0                1.0  \n",
              "2816              0.0                1.0  \n",
              "2817              0.0                1.0  \n",
              "2818              0.0                1.0  \n",
              "2819              0.0                1.0  \n",
              "\n",
              "[2517 rows x 9 columns]"
            ],
            "text/html": [
              "\n",
              "  <div id=\"df-d328e796-3458-4142-bf3d-b02de83a759d\">\n",
              "    <div class=\"colab-df-container\">\n",
              "      <div>\n",
              "<style scoped>\n",
              "    .dataframe tbody tr th:only-of-type {\n",
              "        vertical-align: middle;\n",
              "    }\n",
              "\n",
              "    .dataframe tbody tr th {\n",
              "        vertical-align: top;\n",
              "    }\n",
              "\n",
              "    .dataframe thead th {\n",
              "        text-align: right;\n",
              "    }\n",
              "</style>\n",
              "<table border=\"1\" class=\"dataframe\">\n",
              "  <thead>\n",
              "    <tr style=\"text-align: right;\">\n",
              "      <th></th>\n",
              "      <th>timestamp</th>\n",
              "      <th>open</th>\n",
              "      <th>high</th>\n",
              "      <th>low</th>\n",
              "      <th>close</th>\n",
              "      <th>adjusted_close</th>\n",
              "      <th>volume</th>\n",
              "      <th>dividend_amount</th>\n",
              "      <th>split_coefficient</th>\n",
              "    </tr>\n",
              "  </thead>\n",
              "  <tbody>\n",
              "    <tr>\n",
              "      <th>303</th>\n",
              "      <td>2021-12-31</td>\n",
              "      <td>134.00</td>\n",
              "      <td>134.99</td>\n",
              "      <td>133.61</td>\n",
              "      <td>133.66</td>\n",
              "      <td>125.716588</td>\n",
              "      <td>3315313</td>\n",
              "      <td>0.0</td>\n",
              "      <td>1.0</td>\n",
              "    </tr>\n",
              "    <tr>\n",
              "      <th>304</th>\n",
              "      <td>2021-12-30</td>\n",
              "      <td>133.75</td>\n",
              "      <td>134.37</td>\n",
              "      <td>133.33</td>\n",
              "      <td>133.91</td>\n",
              "      <td>125.951730</td>\n",
              "      <td>3158111</td>\n",
              "      <td>0.0</td>\n",
              "      <td>1.0</td>\n",
              "    </tr>\n",
              "    <tr>\n",
              "      <th>305</th>\n",
              "      <td>2021-12-29</td>\n",
              "      <td>132.40</td>\n",
              "      <td>134.21</td>\n",
              "      <td>132.30</td>\n",
              "      <td>133.35</td>\n",
              "      <td>125.425011</td>\n",
              "      <td>4239935</td>\n",
              "      <td>0.0</td>\n",
              "      <td>1.0</td>\n",
              "    </tr>\n",
              "    <tr>\n",
              "      <th>306</th>\n",
              "      <td>2021-12-28</td>\n",
              "      <td>131.60</td>\n",
              "      <td>133.22</td>\n",
              "      <td>131.59</td>\n",
              "      <td>132.63</td>\n",
              "      <td>124.747801</td>\n",
              "      <td>3447079</td>\n",
              "      <td>0.0</td>\n",
              "      <td>1.0</td>\n",
              "    </tr>\n",
              "    <tr>\n",
              "      <th>307</th>\n",
              "      <td>2021-12-27</td>\n",
              "      <td>130.63</td>\n",
              "      <td>131.65</td>\n",
              "      <td>129.95</td>\n",
              "      <td>131.62</td>\n",
              "      <td>123.797825</td>\n",
              "      <td>4294499</td>\n",
              "      <td>0.0</td>\n",
              "      <td>1.0</td>\n",
              "    </tr>\n",
              "    <tr>\n",
              "      <th>...</th>\n",
              "      <td>...</td>\n",
              "      <td>...</td>\n",
              "      <td>...</td>\n",
              "      <td>...</td>\n",
              "      <td>...</td>\n",
              "      <td>...</td>\n",
              "      <td>...</td>\n",
              "      <td>...</td>\n",
              "      <td>...</td>\n",
              "    </tr>\n",
              "    <tr>\n",
              "      <th>2815</th>\n",
              "      <td>2012-01-09</td>\n",
              "      <td>182.20</td>\n",
              "      <td>182.27</td>\n",
              "      <td>180.27</td>\n",
              "      <td>181.59</td>\n",
              "      <td>114.027977</td>\n",
              "      <td>5201200</td>\n",
              "      <td>0.0</td>\n",
              "      <td>1.0</td>\n",
              "    </tr>\n",
              "    <tr>\n",
              "      <th>2816</th>\n",
              "      <td>2012-01-06</td>\n",
              "      <td>184.39</td>\n",
              "      <td>184.48</td>\n",
              "      <td>182.31</td>\n",
              "      <td>182.54</td>\n",
              "      <td>114.624521</td>\n",
              "      <td>4897100</td>\n",
              "      <td>0.0</td>\n",
              "      <td>1.0</td>\n",
              "    </tr>\n",
              "    <tr>\n",
              "      <th>2817</th>\n",
              "      <td>2012-01-05</td>\n",
              "      <td>184.81</td>\n",
              "      <td>185.03</td>\n",
              "      <td>183.10</td>\n",
              "      <td>184.66</td>\n",
              "      <td>115.955758</td>\n",
              "      <td>4463100</td>\n",
              "      <td>0.0</td>\n",
              "      <td>1.0</td>\n",
              "    </tr>\n",
              "    <tr>\n",
              "      <th>2818</th>\n",
              "      <td>2012-01-04</td>\n",
              "      <td>185.57</td>\n",
              "      <td>186.33</td>\n",
              "      <td>184.94</td>\n",
              "      <td>185.54</td>\n",
              "      <td>116.508347</td>\n",
              "      <td>4346700</td>\n",
              "      <td>0.0</td>\n",
              "      <td>1.0</td>\n",
              "    </tr>\n",
              "    <tr>\n",
              "      <th>2819</th>\n",
              "      <td>2012-01-03</td>\n",
              "      <td>186.73</td>\n",
              "      <td>188.71</td>\n",
              "      <td>186.00</td>\n",
              "      <td>186.30</td>\n",
              "      <td>116.985583</td>\n",
              "      <td>5646000</td>\n",
              "      <td>0.0</td>\n",
              "      <td>1.0</td>\n",
              "    </tr>\n",
              "  </tbody>\n",
              "</table>\n",
              "<p>2517 rows × 9 columns</p>\n",
              "</div>\n",
              "      <button class=\"colab-df-convert\" onclick=\"convertToInteractive('df-d328e796-3458-4142-bf3d-b02de83a759d')\"\n",
              "              title=\"Convert this dataframe to an interactive table.\"\n",
              "              style=\"display:none;\">\n",
              "        \n",
              "  <svg xmlns=\"http://www.w3.org/2000/svg\" height=\"24px\"viewBox=\"0 0 24 24\"\n",
              "       width=\"24px\">\n",
              "    <path d=\"M0 0h24v24H0V0z\" fill=\"none\"/>\n",
              "    <path d=\"M18.56 5.44l.94 2.06.94-2.06 2.06-.94-2.06-.94-.94-2.06-.94 2.06-2.06.94zm-11 1L8.5 8.5l.94-2.06 2.06-.94-2.06-.94L8.5 2.5l-.94 2.06-2.06.94zm10 10l.94 2.06.94-2.06 2.06-.94-2.06-.94-.94-2.06-.94 2.06-2.06.94z\"/><path d=\"M17.41 7.96l-1.37-1.37c-.4-.4-.92-.59-1.43-.59-.52 0-1.04.2-1.43.59L10.3 9.45l-7.72 7.72c-.78.78-.78 2.05 0 2.83L4 21.41c.39.39.9.59 1.41.59.51 0 1.02-.2 1.41-.59l7.78-7.78 2.81-2.81c.8-.78.8-2.07 0-2.86zM5.41 20L4 18.59l7.72-7.72 1.47 1.35L5.41 20z\"/>\n",
              "  </svg>\n",
              "      </button>\n",
              "      \n",
              "  <style>\n",
              "    .colab-df-container {\n",
              "      display:flex;\n",
              "      flex-wrap:wrap;\n",
              "      gap: 12px;\n",
              "    }\n",
              "\n",
              "    .colab-df-convert {\n",
              "      background-color: #E8F0FE;\n",
              "      border: none;\n",
              "      border-radius: 50%;\n",
              "      cursor: pointer;\n",
              "      display: none;\n",
              "      fill: #1967D2;\n",
              "      height: 32px;\n",
              "      padding: 0 0 0 0;\n",
              "      width: 32px;\n",
              "    }\n",
              "\n",
              "    .colab-df-convert:hover {\n",
              "      background-color: #E2EBFA;\n",
              "      box-shadow: 0px 1px 2px rgba(60, 64, 67, 0.3), 0px 1px 3px 1px rgba(60, 64, 67, 0.15);\n",
              "      fill: #174EA6;\n",
              "    }\n",
              "\n",
              "    [theme=dark] .colab-df-convert {\n",
              "      background-color: #3B4455;\n",
              "      fill: #D2E3FC;\n",
              "    }\n",
              "\n",
              "    [theme=dark] .colab-df-convert:hover {\n",
              "      background-color: #434B5C;\n",
              "      box-shadow: 0px 1px 3px 1px rgba(0, 0, 0, 0.15);\n",
              "      filter: drop-shadow(0px 1px 2px rgba(0, 0, 0, 0.3));\n",
              "      fill: #FFFFFF;\n",
              "    }\n",
              "  </style>\n",
              "\n",
              "      <script>\n",
              "        const buttonEl =\n",
              "          document.querySelector('#df-d328e796-3458-4142-bf3d-b02de83a759d button.colab-df-convert');\n",
              "        buttonEl.style.display =\n",
              "          google.colab.kernel.accessAllowed ? 'block' : 'none';\n",
              "\n",
              "        async function convertToInteractive(key) {\n",
              "          const element = document.querySelector('#df-d328e796-3458-4142-bf3d-b02de83a759d');\n",
              "          const dataTable =\n",
              "            await google.colab.kernel.invokeFunction('convertToInteractive',\n",
              "                                                     [key], {});\n",
              "          if (!dataTable) return;\n",
              "\n",
              "          const docLinkHtml = 'Like what you see? Visit the ' +\n",
              "            '<a target=\"_blank\" href=https://colab.research.google.com/notebooks/data_table.ipynb>data table notebook</a>'\n",
              "            + ' to learn more about interactive tables.';\n",
              "          element.innerHTML = '';\n",
              "          dataTable['output_type'] = 'display_data';\n",
              "          await google.colab.output.renderOutput(dataTable, element);\n",
              "          const docLink = document.createElement('div');\n",
              "          docLink.innerHTML = docLinkHtml;\n",
              "          element.appendChild(docLink);\n",
              "        }\n",
              "      </script>\n",
              "    </div>\n",
              "  </div>\n",
              "  "
            ]
          },
          "metadata": {},
          "execution_count": 4
        }
      ]
    },
    {
      "cell_type": "markdown",
      "source": [
        "## Test Data (1 Year)"
      ],
      "metadata": {
        "id": "GeTZ_0BKuzTb"
      }
    },
    {
      "cell_type": "code",
      "source": [
        "test_df = df[(df['timestamp'] >= '2022-01-01') & (df['timestamp'] < '2023-01-01')]\n",
        "test_df"
      ],
      "metadata": {
        "colab": {
          "base_uri": "https://localhost:8080/",
          "height": 424
        },
        "id": "md-dgyV_irfZ",
        "outputId": "3f9e3832-b89f-42aa-c34d-5b225805b13e"
      },
      "execution_count": null,
      "outputs": [
        {
          "output_type": "execute_result",
          "data": {
            "text/plain": [
              "      timestamp    open      high       low   close  adjusted_close   volume  \\\n",
              "52   2022-12-30  140.54  140.9000  139.4500  140.89      139.173098  2858110   \n",
              "53   2022-12-29  140.58  142.2600  140.4500  141.06      139.341027  2337207   \n",
              "54   2022-12-28  142.40  142.8100  139.9500  140.02      138.313700  2539577   \n",
              "55   2022-12-27  141.73  142.7200  141.2300  142.42      140.684453  2742525   \n",
              "56   2022-12-23  140.59  141.8565  139.6000  141.65      139.923837  2092715   \n",
              "..          ...     ...       ...       ...     ...             ...      ...   \n",
              "298  2022-01-07  134.90  135.6618  133.5111  134.83      126.817055  5238099   \n",
              "299  2022-01-06  138.20  138.4099  132.5100  135.34      127.296746  9908081   \n",
              "300  2022-01-05  138.31  142.2000  137.8800  138.22      130.005587  8956910   \n",
              "301  2022-01-04  136.10  139.9500  135.9000  138.02      129.817473  7300011   \n",
              "302  2022-01-03  134.07  136.2950  133.6300  136.04      127.955145  4610665   \n",
              "\n",
              "     dividend_amount  split_coefficient  \n",
              "52               0.0                1.0  \n",
              "53               0.0                1.0  \n",
              "54               0.0                1.0  \n",
              "55               0.0                1.0  \n",
              "56               0.0                1.0  \n",
              "..               ...                ...  \n",
              "298              0.0                1.0  \n",
              "299              0.0                1.0  \n",
              "300              0.0                1.0  \n",
              "301              0.0                1.0  \n",
              "302              0.0                1.0  \n",
              "\n",
              "[251 rows x 9 columns]"
            ],
            "text/html": [
              "\n",
              "  <div id=\"df-94b71f92-470c-4751-a379-83300a146585\">\n",
              "    <div class=\"colab-df-container\">\n",
              "      <div>\n",
              "<style scoped>\n",
              "    .dataframe tbody tr th:only-of-type {\n",
              "        vertical-align: middle;\n",
              "    }\n",
              "\n",
              "    .dataframe tbody tr th {\n",
              "        vertical-align: top;\n",
              "    }\n",
              "\n",
              "    .dataframe thead th {\n",
              "        text-align: right;\n",
              "    }\n",
              "</style>\n",
              "<table border=\"1\" class=\"dataframe\">\n",
              "  <thead>\n",
              "    <tr style=\"text-align: right;\">\n",
              "      <th></th>\n",
              "      <th>timestamp</th>\n",
              "      <th>open</th>\n",
              "      <th>high</th>\n",
              "      <th>low</th>\n",
              "      <th>close</th>\n",
              "      <th>adjusted_close</th>\n",
              "      <th>volume</th>\n",
              "      <th>dividend_amount</th>\n",
              "      <th>split_coefficient</th>\n",
              "    </tr>\n",
              "  </thead>\n",
              "  <tbody>\n",
              "    <tr>\n",
              "      <th>52</th>\n",
              "      <td>2022-12-30</td>\n",
              "      <td>140.54</td>\n",
              "      <td>140.9000</td>\n",
              "      <td>139.4500</td>\n",
              "      <td>140.89</td>\n",
              "      <td>139.173098</td>\n",
              "      <td>2858110</td>\n",
              "      <td>0.0</td>\n",
              "      <td>1.0</td>\n",
              "    </tr>\n",
              "    <tr>\n",
              "      <th>53</th>\n",
              "      <td>2022-12-29</td>\n",
              "      <td>140.58</td>\n",
              "      <td>142.2600</td>\n",
              "      <td>140.4500</td>\n",
              "      <td>141.06</td>\n",
              "      <td>139.341027</td>\n",
              "      <td>2337207</td>\n",
              "      <td>0.0</td>\n",
              "      <td>1.0</td>\n",
              "    </tr>\n",
              "    <tr>\n",
              "      <th>54</th>\n",
              "      <td>2022-12-28</td>\n",
              "      <td>142.40</td>\n",
              "      <td>142.8100</td>\n",
              "      <td>139.9500</td>\n",
              "      <td>140.02</td>\n",
              "      <td>138.313700</td>\n",
              "      <td>2539577</td>\n",
              "      <td>0.0</td>\n",
              "      <td>1.0</td>\n",
              "    </tr>\n",
              "    <tr>\n",
              "      <th>55</th>\n",
              "      <td>2022-12-27</td>\n",
              "      <td>141.73</td>\n",
              "      <td>142.7200</td>\n",
              "      <td>141.2300</td>\n",
              "      <td>142.42</td>\n",
              "      <td>140.684453</td>\n",
              "      <td>2742525</td>\n",
              "      <td>0.0</td>\n",
              "      <td>1.0</td>\n",
              "    </tr>\n",
              "    <tr>\n",
              "      <th>56</th>\n",
              "      <td>2022-12-23</td>\n",
              "      <td>140.59</td>\n",
              "      <td>141.8565</td>\n",
              "      <td>139.6000</td>\n",
              "      <td>141.65</td>\n",
              "      <td>139.923837</td>\n",
              "      <td>2092715</td>\n",
              "      <td>0.0</td>\n",
              "      <td>1.0</td>\n",
              "    </tr>\n",
              "    <tr>\n",
              "      <th>...</th>\n",
              "      <td>...</td>\n",
              "      <td>...</td>\n",
              "      <td>...</td>\n",
              "      <td>...</td>\n",
              "      <td>...</td>\n",
              "      <td>...</td>\n",
              "      <td>...</td>\n",
              "      <td>...</td>\n",
              "      <td>...</td>\n",
              "    </tr>\n",
              "    <tr>\n",
              "      <th>298</th>\n",
              "      <td>2022-01-07</td>\n",
              "      <td>134.90</td>\n",
              "      <td>135.6618</td>\n",
              "      <td>133.5111</td>\n",
              "      <td>134.83</td>\n",
              "      <td>126.817055</td>\n",
              "      <td>5238099</td>\n",
              "      <td>0.0</td>\n",
              "      <td>1.0</td>\n",
              "    </tr>\n",
              "    <tr>\n",
              "      <th>299</th>\n",
              "      <td>2022-01-06</td>\n",
              "      <td>138.20</td>\n",
              "      <td>138.4099</td>\n",
              "      <td>132.5100</td>\n",
              "      <td>135.34</td>\n",
              "      <td>127.296746</td>\n",
              "      <td>9908081</td>\n",
              "      <td>0.0</td>\n",
              "      <td>1.0</td>\n",
              "    </tr>\n",
              "    <tr>\n",
              "      <th>300</th>\n",
              "      <td>2022-01-05</td>\n",
              "      <td>138.31</td>\n",
              "      <td>142.2000</td>\n",
              "      <td>137.8800</td>\n",
              "      <td>138.22</td>\n",
              "      <td>130.005587</td>\n",
              "      <td>8956910</td>\n",
              "      <td>0.0</td>\n",
              "      <td>1.0</td>\n",
              "    </tr>\n",
              "    <tr>\n",
              "      <th>301</th>\n",
              "      <td>2022-01-04</td>\n",
              "      <td>136.10</td>\n",
              "      <td>139.9500</td>\n",
              "      <td>135.9000</td>\n",
              "      <td>138.02</td>\n",
              "      <td>129.817473</td>\n",
              "      <td>7300011</td>\n",
              "      <td>0.0</td>\n",
              "      <td>1.0</td>\n",
              "    </tr>\n",
              "    <tr>\n",
              "      <th>302</th>\n",
              "      <td>2022-01-03</td>\n",
              "      <td>134.07</td>\n",
              "      <td>136.2950</td>\n",
              "      <td>133.6300</td>\n",
              "      <td>136.04</td>\n",
              "      <td>127.955145</td>\n",
              "      <td>4610665</td>\n",
              "      <td>0.0</td>\n",
              "      <td>1.0</td>\n",
              "    </tr>\n",
              "  </tbody>\n",
              "</table>\n",
              "<p>251 rows × 9 columns</p>\n",
              "</div>\n",
              "      <button class=\"colab-df-convert\" onclick=\"convertToInteractive('df-94b71f92-470c-4751-a379-83300a146585')\"\n",
              "              title=\"Convert this dataframe to an interactive table.\"\n",
              "              style=\"display:none;\">\n",
              "        \n",
              "  <svg xmlns=\"http://www.w3.org/2000/svg\" height=\"24px\"viewBox=\"0 0 24 24\"\n",
              "       width=\"24px\">\n",
              "    <path d=\"M0 0h24v24H0V0z\" fill=\"none\"/>\n",
              "    <path d=\"M18.56 5.44l.94 2.06.94-2.06 2.06-.94-2.06-.94-.94-2.06-.94 2.06-2.06.94zm-11 1L8.5 8.5l.94-2.06 2.06-.94-2.06-.94L8.5 2.5l-.94 2.06-2.06.94zm10 10l.94 2.06.94-2.06 2.06-.94-2.06-.94-.94-2.06-.94 2.06-2.06.94z\"/><path d=\"M17.41 7.96l-1.37-1.37c-.4-.4-.92-.59-1.43-.59-.52 0-1.04.2-1.43.59L10.3 9.45l-7.72 7.72c-.78.78-.78 2.05 0 2.83L4 21.41c.39.39.9.59 1.41.59.51 0 1.02-.2 1.41-.59l7.78-7.78 2.81-2.81c.8-.78.8-2.07 0-2.86zM5.41 20L4 18.59l7.72-7.72 1.47 1.35L5.41 20z\"/>\n",
              "  </svg>\n",
              "      </button>\n",
              "      \n",
              "  <style>\n",
              "    .colab-df-container {\n",
              "      display:flex;\n",
              "      flex-wrap:wrap;\n",
              "      gap: 12px;\n",
              "    }\n",
              "\n",
              "    .colab-df-convert {\n",
              "      background-color: #E8F0FE;\n",
              "      border: none;\n",
              "      border-radius: 50%;\n",
              "      cursor: pointer;\n",
              "      display: none;\n",
              "      fill: #1967D2;\n",
              "      height: 32px;\n",
              "      padding: 0 0 0 0;\n",
              "      width: 32px;\n",
              "    }\n",
              "\n",
              "    .colab-df-convert:hover {\n",
              "      background-color: #E2EBFA;\n",
              "      box-shadow: 0px 1px 2px rgba(60, 64, 67, 0.3), 0px 1px 3px 1px rgba(60, 64, 67, 0.15);\n",
              "      fill: #174EA6;\n",
              "    }\n",
              "\n",
              "    [theme=dark] .colab-df-convert {\n",
              "      background-color: #3B4455;\n",
              "      fill: #D2E3FC;\n",
              "    }\n",
              "\n",
              "    [theme=dark] .colab-df-convert:hover {\n",
              "      background-color: #434B5C;\n",
              "      box-shadow: 0px 1px 3px 1px rgba(0, 0, 0, 0.15);\n",
              "      filter: drop-shadow(0px 1px 2px rgba(0, 0, 0, 0.3));\n",
              "      fill: #FFFFFF;\n",
              "    }\n",
              "  </style>\n",
              "\n",
              "      <script>\n",
              "        const buttonEl =\n",
              "          document.querySelector('#df-94b71f92-470c-4751-a379-83300a146585 button.colab-df-convert');\n",
              "        buttonEl.style.display =\n",
              "          google.colab.kernel.accessAllowed ? 'block' : 'none';\n",
              "\n",
              "        async function convertToInteractive(key) {\n",
              "          const element = document.querySelector('#df-94b71f92-470c-4751-a379-83300a146585');\n",
              "          const dataTable =\n",
              "            await google.colab.kernel.invokeFunction('convertToInteractive',\n",
              "                                                     [key], {});\n",
              "          if (!dataTable) return;\n",
              "\n",
              "          const docLinkHtml = 'Like what you see? Visit the ' +\n",
              "            '<a target=\"_blank\" href=https://colab.research.google.com/notebooks/data_table.ipynb>data table notebook</a>'\n",
              "            + ' to learn more about interactive tables.';\n",
              "          element.innerHTML = '';\n",
              "          dataTable['output_type'] = 'display_data';\n",
              "          await google.colab.output.renderOutput(dataTable, element);\n",
              "          const docLink = document.createElement('div');\n",
              "          docLink.innerHTML = docLinkHtml;\n",
              "          element.appendChild(docLink);\n",
              "        }\n",
              "      </script>\n",
              "    </div>\n",
              "  </div>\n",
              "  "
            ]
          },
          "metadata": {},
          "execution_count": 5
        }
      ]
    },
    {
      "cell_type": "markdown",
      "source": [
        "## Getting the Prices, and Timestamps as lists "
      ],
      "metadata": {
        "id": "E6hCEbh3u36G"
      }
    },
    {
      "cell_type": "code",
      "source": [
        "train_series = train_df['close'].to_list()[::-1]\n",
        "train_time = train_df['timestamp'].to_list()[::-1]\n",
        "train_time = [date.fromisoformat(time) for time in train_time]"
      ],
      "metadata": {
        "id": "LQ5Ooy3uitwn"
      },
      "execution_count": null,
      "outputs": []
    },
    {
      "cell_type": "code",
      "source": [
        "test_series = test_df['close'].to_list()[::-1]\n",
        "test_time = test_df['timestamp'].to_list()[::-1]\n",
        "test_time = [date.fromisoformat(time) for time in test_time]"
      ],
      "metadata": {
        "id": "ZvbIleb6iyKr"
      },
      "execution_count": null,
      "outputs": []
    },
    {
      "cell_type": "markdown",
      "source": [
        "## Plotting Prices for Each Day"
      ],
      "metadata": {
        "id": "US3q9PyjvO3j"
      }
    },
    {
      "cell_type": "markdown",
      "source": [
        "### Train Plot"
      ],
      "metadata": {
        "id": "IFalU4Sxvbnw"
      }
    },
    {
      "cell_type": "code",
      "source": [
        "plt.figure(figsize=(12, 6))\n",
        "plt.plot(train_time, train_series)\n",
        "plt.xlabel('Days', fontsize=14)\n",
        "plt.ylabel('Price in USD', fontsize=14)\n",
        "plt.title(f'{ticker} Stock', fontsize=20)\n",
        "plt.show()"
      ],
      "metadata": {
        "colab": {
          "base_uri": "https://localhost:8080/",
          "height": 413
        },
        "id": "1kGLTXfwiwmR",
        "outputId": "4efde44f-9b8d-47fe-c443-e9ff7e882103"
      },
      "execution_count": null,
      "outputs": [
        {
          "output_type": "display_data",
          "data": {
            "text/plain": [
              "<Figure size 864x432 with 1 Axes>"
            ],
            "image/png": "[encoded data removed]"
          },
          "metadata": {
            "needs_background": "light"
          }
        }
      ]
    },
    {
      "cell_type": "markdown",
      "source": [
        "### Test Plot"
      ],
      "metadata": {
        "id": "V8AMkmyzvgY-"
      }
    },
    {
      "cell_type": "code",
      "source": [
        "plt.figure(figsize=(10, 6))\n",
        "plt.plot(test_time, test_series)\n",
        "plt.xlabel('Days', fontsize=14)\n",
        "plt.ylabel('Price in USD', fontsize=14)\n",
        "plt.title(f'{ticker} Stock', fontsize=20)\n",
        "plt.show()"
      ],
      "metadata": {
        "colab": {
          "base_uri": "https://localhost:8080/",
          "height": 413
        },
        "id": "H6pw22kZizQe",
        "outputId": "0014dc4d-3c09-4ae8-f690-a610fc253ee3"
      },
      "execution_count": null,
      "outputs": [
        {
          "output_type": "display_data",
          "data": {
            "text/plain": [
              "<Figure size 720x432 with 1 Axes>"
            ],
            "image/png": "[encoded data removed]"
          },
          "metadata": {
            "needs_background": "light"
          }
        }
      ]
    },
    {
      "cell_type": "markdown",
      "source": [
        "## Custom Dataset Class"
      ],
      "metadata": {
        "id": "nIxROU0zvn2I"
      }
    },
    {
      "cell_type": "code",
      "source": [
        "class SeriesDataset(Dataset):\n",
        "  def __init__(self, series, window_size):\n",
        "    self.series = series\n",
        "    self.window_size = window_size\n",
        "\n",
        "  def __len__(self):\n",
        "    return len(self.series) - self.window_size\n",
        "\n",
        "  def __getitem__(self, idx):\n",
        "    window = self.series[idx: idx + self.window_size]\n",
        "    label = self.series[idx + self.window_size]\n",
        "\n",
        "    return torch.tensor(window).unsqueeze(-1), torch.tensor([label])"
      ],
      "metadata": {
        "id": "-8_jwm4TIMkN"
      },
      "execution_count": null,
      "outputs": []
    },
    {
      "cell_type": "markdown",
      "source": [
        "## Creating Dataloaders"
      ],
      "metadata": {
        "id": "UmaRyktGvqXI"
      }
    },
    {
      "cell_type": "code",
      "source": [
        "train_dataset = SeriesDataset(train_series, WINDOW_SIZE)\n",
        "train_dataloader = DataLoader(train_dataset, batch_size=BATCH_SIZE, shuffle=True)"
      ],
      "metadata": {
        "id": "FwAw4DP5a08J"
      },
      "execution_count": null,
      "outputs": []
    },
    {
      "cell_type": "code",
      "source": [
        "test_dataset = SeriesDataset(test_series, WINDOW_SIZE)\n",
        "test_dataloader = DataLoader(test_dataset, batch_size=BATCH_SIZE)"
      ],
      "metadata": {
        "id": "X9T_x8NX0Up1"
      },
      "execution_count": null,
      "outputs": []
    },
    {
      "cell_type": "markdown",
      "source": [
        "## Defining the Model"
      ],
      "metadata": {
        "id": "KrbYKRqCvvy2"
      }
    },
    {
      "cell_type": "code",
      "source": [
        "class LSTM_Model(nn.Module):\n",
        "  def __init__(self, input_size, hidden_size, num_layers):\n",
        "    super(LSTM_Model, self).__init__()\n",
        "\n",
        "    self.relu = nn.ReLU()\n",
        "\n",
        "    self.lstm = nn.LSTM(input_size=input_size, hidden_size=hidden_size,\n",
        "                        num_layers=num_layers, batch_first=True)\n",
        "    \n",
        "    self.fc1 = nn.Linear(hidden_size, 128)\n",
        "    self.fc2 = nn.Linear(128, 1)\n",
        "\n",
        "\n",
        "  def forward(self, x):\n",
        "    x, _ = self.lstm(x)\n",
        "    x = self.fc1(x[:, -1])\n",
        "    x = self.relu(x)\n",
        "    return self.fc2(x)"
      ],
      "metadata": {
        "id": "W3-rUsVdfDS-"
      },
      "execution_count": null,
      "outputs": []
    },
    {
      "cell_type": "markdown",
      "source": [
        "## Initializing the Model"
      ],
      "metadata": {
        "id": "wMGG4503vxlw"
      }
    },
    {
      "cell_type": "code",
      "source": [
        "model = LSTM_Model(INPUT_DIMS, HIDDEN_SIZE, NUM_LSTMS)\n",
        "model.to(DEVICE)\n",
        "\n",
        "optimizer = optim.Adam(model.parameters())\n",
        "loss_function = nn.L1Loss()"
      ],
      "metadata": {
        "id": "YRz64D3qlwPj"
      },
      "execution_count": null,
      "outputs": []
    },
    {
      "cell_type": "markdown",
      "source": [
        "## Training the Model"
      ],
      "metadata": {
        "id": "M_yjoJIxv10P"
      }
    },
    {
      "cell_type": "code",
      "source": [
        "for epoch in range(EPOCHS):\n",
        "  loop = tqdm(train_dataloader, desc=f'Epoch {epoch+1}/{EPOCHS}', colour='green')\n",
        "  for window, y in loop:\n",
        "    window = window.to(DEVICE)\n",
        "    y = y.to(DEVICE)\n",
        "    \n",
        "    output = model(window)\n",
        "    loss = loss_function(y, output)\n",
        "\n",
        "    optimizer.zero_grad()\n",
        "    loss.backward()\n",
        "    optimizer.step()\n",
        "\n",
        "    loop.set_postfix({'L1 Loss': loss.item()})"
      ],
      "metadata": {
        "colab": {
          "base_uri": "https://localhost:8080/"
        },
        "id": "tuoO6Tx4s47i",
        "outputId": "b9d34097-3d27-441f-a56e-6ecb4f3f43b3"
      },
      "execution_count": null,
      "outputs": [
        {
          "output_type": "stream",
          "name": "stderr",
          "text": [
            "Epoch 1/100: 100%|\u001b[32m██████████\u001b[0m| 79/79 [00:01<00:00, 76.20it/s, L1 Loss=69.8]\n",
            "Epoch 2/100: 100%|\u001b[32m██████████\u001b[0m| 79/79 [00:00<00:00, 95.52it/s, L1 Loss=15]\n",
            "Epoch 3/100: 100%|\u001b[32m██████████\u001b[0m| 79/79 [00:00<00:00, 86.68it/s, L1 Loss=19.5]\n",
            "Epoch 4/100: 100%|\u001b[32m██████████\u001b[0m| 79/79 [00:01<00:00, 66.47it/s, L1 Loss=17.1]\n",
            "Epoch 5/100: 100%|\u001b[32m██████████\u001b[0m| 79/79 [00:01<00:00, 69.90it/s, L1 Loss=29.8]\n",
            "Epoch 6/100: 100%|\u001b[32m██████████\u001b[0m| 79/79 [00:01<00:00, 44.48it/s, L1 Loss=14.2]\n",
            "Epoch 7/100: 100%|\u001b[32m██████████\u001b[0m| 79/79 [00:01<00:00, 50.42it/s, L1 Loss=22.2]\n",
            "Epoch 8/100: 100%|\u001b[32m██████████\u001b[0m| 79/79 [00:00<00:00, 85.22it/s, L1 Loss=24.2]\n",
            "Epoch 9/100: 100%|\u001b[32m██████████\u001b[0m| 79/79 [00:01<00:00, 69.14it/s, L1 Loss=18.2]\n",
            "Epoch 10/100: 100%|\u001b[32m██████████\u001b[0m| 79/79 [00:01<00:00, 71.61it/s, L1 Loss=21.7]\n",
            "Epoch 11/100: 100%|\u001b[32m██████████\u001b[0m| 79/79 [00:01<00:00, 73.55it/s, L1 Loss=13.4]\n",
            "Epoch 12/100: 100%|\u001b[32m██████████\u001b[0m| 79/79 [00:01<00:00, 69.20it/s, L1 Loss=4.83]\n",
            "Epoch 13/100: 100%|\u001b[32m██████████\u001b[0m| 79/79 [00:01<00:00, 77.24it/s, L1 Loss=4.3]\n",
            "Epoch 14/100: 100%|\u001b[32m██████████\u001b[0m| 79/79 [00:01<00:00, 76.63it/s, L1 Loss=3.74]\n",
            "Epoch 15/100: 100%|\u001b[32m██████████\u001b[0m| 79/79 [00:00<00:00, 96.04it/s, L1 Loss=3.1]\n",
            "Epoch 16/100: 100%|\u001b[32m██████████\u001b[0m| 79/79 [00:01<00:00, 60.95it/s, L1 Loss=2.49]\n",
            "Epoch 17/100: 100%|\u001b[32m██████████\u001b[0m| 79/79 [00:01<00:00, 64.09it/s, L1 Loss=3.23]\n",
            "Epoch 18/100: 100%|\u001b[32m██████████\u001b[0m| 79/79 [00:00<00:00, 117.15it/s, L1 Loss=1.21]\n",
            "Epoch 19/100: 100%|\u001b[32m██████████\u001b[0m| 79/79 [00:00<00:00, 107.05it/s, L1 Loss=3.58]\n",
            "Epoch 20/100: 100%|\u001b[32m██████████\u001b[0m| 79/79 [00:00<00:00, 129.39it/s, L1 Loss=1.98]\n",
            "Epoch 21/100: 100%|\u001b[32m██████████\u001b[0m| 79/79 [00:00<00:00, 131.54it/s, L1 Loss=2.86]\n",
            "Epoch 22/100: 100%|\u001b[32m██████████\u001b[0m| 79/79 [00:00<00:00, 127.35it/s, L1 Loss=2.06]\n",
            "Epoch 23/100: 100%|\u001b[32m██████████\u001b[0m| 79/79 [00:00<00:00, 129.45it/s, L1 Loss=4.38]\n",
            "Epoch 24/100: 100%|\u001b[32m██████████\u001b[0m| 79/79 [00:00<00:00, 130.55it/s, L1 Loss=1.59]\n",
            "Epoch 25/100: 100%|\u001b[32m██████████\u001b[0m| 79/79 [00:00<00:00, 129.96it/s, L1 Loss=2.17]\n",
            "Epoch 26/100: 100%|\u001b[32m██████████\u001b[0m| 79/79 [00:00<00:00, 132.06it/s, L1 Loss=1.37]\n",
            "Epoch 27/100: 100%|\u001b[32m██████████\u001b[0m| 79/79 [00:00<00:00, 133.56it/s, L1 Loss=1.93]\n",
            "Epoch 28/100: 100%|\u001b[32m██████████\u001b[0m| 79/79 [00:00<00:00, 124.98it/s, L1 Loss=1.66]\n",
            "Epoch 29/100: 100%|\u001b[32m██████████\u001b[0m| 79/79 [00:00<00:00, 122.73it/s, L1 Loss=3.02]\n",
            "Epoch 30/100: 100%|\u001b[32m██████████\u001b[0m| 79/79 [00:00<00:00, 126.76it/s, L1 Loss=1.53]\n",
            "Epoch 31/100: 100%|\u001b[32m██████████\u001b[0m| 79/79 [00:00<00:00, 129.06it/s, L1 Loss=1.65]\n",
            "Epoch 32/100: 100%|\u001b[32m██████████\u001b[0m| 79/79 [00:00<00:00, 131.00it/s, L1 Loss=1.84]\n",
            "Epoch 33/100: 100%|\u001b[32m██████████\u001b[0m| 79/79 [00:00<00:00, 129.77it/s, L1 Loss=1.12]\n",
            "Epoch 34/100: 100%|\u001b[32m██████████\u001b[0m| 79/79 [00:00<00:00, 132.12it/s, L1 Loss=2.16]\n",
            "Epoch 35/100: 100%|\u001b[32m██████████\u001b[0m| 79/79 [00:00<00:00, 128.56it/s, L1 Loss=1.86]\n",
            "Epoch 36/100: 100%|\u001b[32m██████████\u001b[0m| 79/79 [00:00<00:00, 108.17it/s, L1 Loss=1.71]\n",
            "Epoch 37/100: 100%|\u001b[32m██████████\u001b[0m| 79/79 [00:00<00:00, 107.14it/s, L1 Loss=1.49]\n",
            "Epoch 38/100: 100%|\u001b[32m██████████\u001b[0m| 79/79 [00:00<00:00, 116.91it/s, L1 Loss=1.53]\n",
            "Epoch 39/100: 100%|\u001b[32m██████████\u001b[0m| 79/79 [00:00<00:00, 115.65it/s, L1 Loss=1.89]\n",
            "Epoch 40/100: 100%|\u001b[32m██████████\u001b[0m| 79/79 [00:00<00:00, 121.65it/s, L1 Loss=0.784]\n",
            "Epoch 41/100: 100%|\u001b[32m██████████\u001b[0m| 79/79 [00:00<00:00, 131.68it/s, L1 Loss=2.13]\n",
            "Epoch 42/100: 100%|\u001b[32m██████████\u001b[0m| 79/79 [00:00<00:00, 132.25it/s, L1 Loss=2.56]\n",
            "Epoch 43/100: 100%|\u001b[32m██████████\u001b[0m| 79/79 [00:00<00:00, 128.10it/s, L1 Loss=1.57]\n",
            "Epoch 44/100: 100%|\u001b[32m██████████\u001b[0m| 79/79 [00:00<00:00, 128.76it/s, L1 Loss=1.81]\n",
            "Epoch 45/100: 100%|\u001b[32m██████████\u001b[0m| 79/79 [00:00<00:00, 131.11it/s, L1 Loss=3.19]\n",
            "Epoch 46/100: 100%|\u001b[32m██████████\u001b[0m| 79/79 [00:00<00:00, 131.49it/s, L1 Loss=3.24]\n",
            "Epoch 47/100: 100%|\u001b[32m██████████\u001b[0m| 79/79 [00:00<00:00, 125.58it/s, L1 Loss=1.96]\n",
            "Epoch 48/100: 100%|\u001b[32m██████████\u001b[0m| 79/79 [00:00<00:00, 123.41it/s, L1 Loss=1.46]\n",
            "Epoch 49/100: 100%|\u001b[32m██████████\u001b[0m| 79/79 [00:00<00:00, 128.18it/s, L1 Loss=1.73]\n",
            "Epoch 50/100: 100%|\u001b[32m██████████\u001b[0m| 79/79 [00:00<00:00, 130.56it/s, L1 Loss=1.69]\n",
            "Epoch 51/100: 100%|\u001b[32m██████████\u001b[0m| 79/79 [00:00<00:00, 122.91it/s, L1 Loss=1.22]\n",
            "Epoch 52/100: 100%|\u001b[32m██████████\u001b[0m| 79/79 [00:00<00:00, 130.15it/s, L1 Loss=2.01]\n",
            "Epoch 53/100: 100%|\u001b[32m██████████\u001b[0m| 79/79 [00:00<00:00, 127.89it/s, L1 Loss=0.719]\n",
            "Epoch 54/100: 100%|\u001b[32m██████████\u001b[0m| 79/79 [00:00<00:00, 122.68it/s, L1 Loss=1.63]\n",
            "Epoch 55/100: 100%|\u001b[32m██████████\u001b[0m| 79/79 [00:00<00:00, 129.67it/s, L1 Loss=3.34]\n",
            "Epoch 56/100: 100%|\u001b[32m██████████\u001b[0m| 79/79 [00:00<00:00, 108.10it/s, L1 Loss=1.02]\n",
            "Epoch 57/100: 100%|\u001b[32m██████████\u001b[0m| 79/79 [00:00<00:00, 120.96it/s, L1 Loss=1.58]\n",
            "Epoch 58/100: 100%|\u001b[32m██████████\u001b[0m| 79/79 [00:00<00:00, 116.66it/s, L1 Loss=1.76]\n",
            "Epoch 59/100: 100%|\u001b[32m██████████\u001b[0m| 79/79 [00:00<00:00, 119.60it/s, L1 Loss=1.82]\n",
            "Epoch 60/100: 100%|\u001b[32m██████████\u001b[0m| 79/79 [00:00<00:00, 117.83it/s, L1 Loss=1.16]\n",
            "Epoch 61/100: 100%|\u001b[32m██████████\u001b[0m| 79/79 [00:00<00:00, 113.69it/s, L1 Loss=1.57]\n",
            "Epoch 62/100: 100%|\u001b[32m██████████\u001b[0m| 79/79 [00:00<00:00, 126.65it/s, L1 Loss=1.08]\n",
            "Epoch 63/100: 100%|\u001b[32m██████████\u001b[0m| 79/79 [00:00<00:00, 128.24it/s, L1 Loss=1.37]\n",
            "Epoch 64/100: 100%|\u001b[32m██████████\u001b[0m| 79/79 [00:00<00:00, 131.78it/s, L1 Loss=1.54]\n",
            "Epoch 65/100: 100%|\u001b[32m██████████\u001b[0m| 79/79 [00:00<00:00, 122.92it/s, L1 Loss=1.66]\n",
            "Epoch 66/100: 100%|\u001b[32m██████████\u001b[0m| 79/79 [00:00<00:00, 121.92it/s, L1 Loss=1.08]\n",
            "Epoch 67/100: 100%|\u001b[32m██████████\u001b[0m| 79/79 [00:00<00:00, 121.91it/s, L1 Loss=1.33]\n",
            "Epoch 68/100: 100%|\u001b[32m██████████\u001b[0m| 79/79 [00:00<00:00, 123.95it/s, L1 Loss=1.21]\n",
            "Epoch 69/100: 100%|\u001b[32m██████████\u001b[0m| 79/79 [00:00<00:00, 124.21it/s, L1 Loss=1.11]\n",
            "Epoch 70/100: 100%|\u001b[32m██████████\u001b[0m| 79/79 [00:00<00:00, 127.66it/s, L1 Loss=0.991]\n",
            "Epoch 71/100: 100%|\u001b[32m██████████\u001b[0m| 79/79 [00:00<00:00, 121.69it/s, L1 Loss=2.15]\n",
            "Epoch 72/100: 100%|\u001b[32m██████████\u001b[0m| 79/79 [00:00<00:00, 127.14it/s, L1 Loss=3.04]\n",
            "Epoch 73/100: 100%|\u001b[32m██████████\u001b[0m| 79/79 [00:00<00:00, 124.31it/s, L1 Loss=1.83]\n",
            "Epoch 74/100: 100%|\u001b[32m██████████\u001b[0m| 79/79 [00:00<00:00, 121.97it/s, L1 Loss=2.24]\n",
            "Epoch 75/100: 100%|\u001b[32m██████████\u001b[0m| 79/79 [00:00<00:00, 128.61it/s, L1 Loss=1.47]\n",
            "Epoch 76/100: 100%|\u001b[32m██████████\u001b[0m| 79/79 [00:00<00:00, 122.70it/s, L1 Loss=1.11]\n",
            "Epoch 77/100: 100%|\u001b[32m██████████\u001b[0m| 79/79 [00:00<00:00, 107.90it/s, L1 Loss=1.5]\n",
            "Epoch 78/100: 100%|\u001b[32m██████████\u001b[0m| 79/79 [00:00<00:00, 115.26it/s, L1 Loss=1.39]\n",
            "Epoch 79/100: 100%|\u001b[32m██████████\u001b[0m| 79/79 [00:00<00:00, 114.86it/s, L1 Loss=1.57]\n",
            "Epoch 80/100: 100%|\u001b[32m██████████\u001b[0m| 79/79 [00:00<00:00, 106.75it/s, L1 Loss=2.65]\n",
            "Epoch 81/100: 100%|\u001b[32m██████████\u001b[0m| 79/79 [00:00<00:00, 117.46it/s, L1 Loss=2.13]\n",
            "Epoch 82/100: 100%|\u001b[32m██████████\u001b[0m| 79/79 [00:00<00:00, 126.67it/s, L1 Loss=1.94]\n",
            "Epoch 83/100: 100%|\u001b[32m██████████\u001b[0m| 79/79 [00:00<00:00, 123.99it/s, L1 Loss=1.75]\n",
            "Epoch 84/100: 100%|\u001b[32m██████████\u001b[0m| 79/79 [00:00<00:00, 129.70it/s, L1 Loss=2.65]\n",
            "Epoch 85/100: 100%|\u001b[32m██████████\u001b[0m| 79/79 [00:00<00:00, 128.22it/s, L1 Loss=0.606]\n",
            "Epoch 86/100: 100%|\u001b[32m██████████\u001b[0m| 79/79 [00:00<00:00, 129.14it/s, L1 Loss=1.88]\n",
            "Epoch 87/100: 100%|\u001b[32m██████████\u001b[0m| 79/79 [00:00<00:00, 129.98it/s, L1 Loss=1.57]\n",
            "Epoch 88/100: 100%|\u001b[32m██████████\u001b[0m| 79/79 [00:00<00:00, 129.52it/s, L1 Loss=1.87]\n",
            "Epoch 89/100: 100%|\u001b[32m██████████\u001b[0m| 79/79 [00:00<00:00, 130.77it/s, L1 Loss=2.6]\n",
            "Epoch 90/100: 100%|\u001b[32m██████████\u001b[0m| 79/79 [00:00<00:00, 122.66it/s, L1 Loss=2.13]\n",
            "Epoch 91/100: 100%|\u001b[32m██████████\u001b[0m| 79/79 [00:00<00:00, 123.71it/s, L1 Loss=1.98]\n",
            "Epoch 92/100: 100%|\u001b[32m██████████\u001b[0m| 79/79 [00:00<00:00, 128.99it/s, L1 Loss=2.46]\n",
            "Epoch 93/100: 100%|\u001b[32m██████████\u001b[0m| 79/79 [00:00<00:00, 125.04it/s, L1 Loss=0.764]\n",
            "Epoch 94/100: 100%|\u001b[32m██████████\u001b[0m| 79/79 [00:00<00:00, 126.97it/s, L1 Loss=1.38]\n",
            "Epoch 95/100: 100%|\u001b[32m██████████\u001b[0m| 79/79 [00:00<00:00, 122.32it/s, L1 Loss=1.66]\n",
            "Epoch 96/100: 100%|\u001b[32m██████████\u001b[0m| 79/79 [00:00<00:00, 120.91it/s, L1 Loss=2.2]\n",
            "Epoch 97/100: 100%|\u001b[32m██████████\u001b[0m| 79/79 [00:00<00:00, 119.63it/s, L1 Loss=1.86]\n",
            "Epoch 98/100: 100%|\u001b[32m██████████\u001b[0m| 79/79 [00:00<00:00, 115.02it/s, L1 Loss=2.49]\n",
            "Epoch 99/100: 100%|\u001b[32m██████████\u001b[0m| 79/79 [00:00<00:00, 126.22it/s, L1 Loss=1.23]\n",
            "Epoch 100/100: 100%|\u001b[32m██████████\u001b[0m| 79/79 [00:00<00:00, 124.46it/s, L1 Loss=1.67]\n"
          ]
        }
      ]
    },
    {
      "cell_type": "markdown",
      "source": [
        "## Generating Predictions"
      ],
      "metadata": {
        "id": "1ExUzSX3v3lU"
      }
    },
    {
      "cell_type": "code",
      "source": [
        "predictions = []\n",
        "model.eval()\n",
        "\n",
        "loop = tqdm(test_dataloader, colour='green')\n",
        "for window, y in loop:\n",
        "  window = window.to(DEVICE)\n",
        "  y = y.to(DEVICE)\n",
        "  \n",
        "  output = model(window)\n",
        "\n",
        "  for val in output.flatten():\n",
        "    predictions.append(val.item())"
      ],
      "metadata": {
        "colab": {
          "base_uri": "https://localhost:8080/"
        },
        "id": "hyMyT2vXrzHz",
        "outputId": "2b0b88ad-084a-4064-c4f0-bc925a3ba3fc"
      },
      "execution_count": null,
      "outputs": [
        {
          "output_type": "stream",
          "name": "stderr",
          "text": [
            "100%|\u001b[32m██████████\u001b[0m| 8/8 [00:00<00:00, 353.37it/s]\n"
          ]
        }
      ]
    },
    {
      "cell_type": "markdown",
      "source": [
        "## Plotting the Predictions against the Test Data"
      ],
      "metadata": {
        "id": "chxcoXpQv5ZJ"
      }
    },
    {
      "cell_type": "code",
      "source": [
        "plt.figure(figsize=(12, 6))\n",
        "plt.plot(test_time[WINDOW_SIZE:], test_series[WINDOW_SIZE:], label='Original')\n",
        "plt.plot(test_time[WINDOW_SIZE:], predictions, label='Forecast')\n",
        "plt.legend()\n",
        "plt.xlabel('Days', fontsize=14)\n",
        "plt.ylabel('Price in USD', fontsize=14)\n",
        "plt.title(f'{ticker} Stock', fontsize=20)\n",
        "plt.show()"
      ],
      "metadata": {
        "colab": {
          "base_uri": "https://localhost:8080/",
          "height": 413
        },
        "id": "PCl0myXLIoFd",
        "outputId": "bd2f186e-e653-4ac0-eef7-4ac6c8feda36"
      },
      "execution_count": null,
      "outputs": [
        {
          "output_type": "display_data",
          "data": {
            "text/plain": [
              "<Figure size 864x432 with 1 Axes>"
            ],
            "image/png": "[encoded data removed]"
          },
          "metadata": {
            "needs_background": "light"
          }
        }
      ]
    }
  ]
}