{
  "nbformat": 4,
  "nbformat_minor": 0,
  "metadata": {
    "colab": {
      "provenance": []
    },
    "kernelspec": {
      "name": "python3",
      "display_name": "Python 3"
    },
    "language_info": {
      "name": "python"
    },
    "gpuClass": "standard"
  },
  "cells": [
    {
      "cell_type": "code",
      "execution_count": null,
      "metadata": {
        "id": "9osdEDctU0-_"
      },
      "outputs": [],
      "source": [
        "import torch\n",
        "from torch import nn\n",
        "import pandas as pd"
      ]
    },
    {
      "cell_type": "code",
      "source": [
        "# Sequence length of input\n",
        "WINDOW_SIZE = 14\n",
        "# Number of hidden layer neurons in LSTM\n",
        "HIDDEN_SIZE = 128\n",
        "# Number of LSTMs\n",
        "NUM_LSTMS = 4"
      ],
      "metadata": {
        "id": "kTzGrJvIV2SB"
      },
      "execution_count": null,
      "outputs": []
    },
    {
      "cell_type": "code",
      "source": [
        "# Get your API key from https://www.alphavantage.co/support/#api-key\n",
        "api_key = ''\n",
        "symbol = 'IBM'\n",
        "df = pd.read_csv(f'https://www.alphavantage.co/query?function=TIME_SERIES_DAILY_ADJUSTED&symbol={symbol}&outputsize=full&datatype=csv&apikey={api_key}')"
      ],
      "metadata": {
        "id": "gaOIbfm4VQq3"
      },
      "execution_count": null,
      "outputs": []
    },
    {
      "cell_type": "code",
      "source": [
        "prices = df['close'].to_list()[:WINDOW_SIZE]\n",
        "prices = prices[::-1]"
      ],
      "metadata": {
        "id": "1nI_tyJTaP7q"
      },
      "execution_count": null,
      "outputs": []
    },
    {
      "cell_type": "code",
      "source": [
        "prices = torch.tensor(prices)\n",
        "prices = prices.view((1, WINDOW_SIZE, 1))"
      ],
      "metadata": {
        "id": "9_PqRs7eVZf4"
      },
      "execution_count": null,
      "outputs": []
    },
    {
      "cell_type": "code",
      "source": [
        "class LSTM_Model(nn.Module):\n",
        "  def __init__(self, hidden_size, num_layers):\n",
        "    super(LSTM_Model, self).__init__()\n",
        "\n",
        "    self.relu = nn.ReLU()\n",
        "\n",
        "    self.lstm = nn.LSTM(input_size=1, hidden_size=hidden_size,\n",
        "                        num_layers=num_layers, batch_first=True)\n",
        "    \n",
        "    self.fc1 = nn.Linear(hidden_size, 128)\n",
        "    self.fc2 = nn.Linear(128, 1)\n",
        "\n",
        "\n",
        "  def forward(self, x):\n",
        "    x, _ = self.lstm(x)\n",
        "    x = x[:, -1]\n",
        "    x = self.fc1(x)\n",
        "    x = self.relu(x)\n",
        "    x = self.fc2(x)\n",
        "    return x"
      ],
      "metadata": {
        "id": "ub7fuyeLVt8T"
      },
      "execution_count": null,
      "outputs": []
    },
    {
      "cell_type": "code",
      "source": [
        "model = LSTM_Model(HIDDEN_SIZE, NUM_LSTMS)\n",
        "model.load_state_dict(torch.load(\"stock_model.pt\", map_location=torch.device('cpu')))\n",
        "model.eval()"
      ],
      "metadata": {
        "colab": {
          "base_uri": "https://localhost:8080/"
        },
        "id": "3lftTnSqVyS4",
        "outputId": "8dbfd4c7-b8ca-4f4f-feb8-e9dcee9fe278"
      },
      "execution_count": null,
      "outputs": [
        {
          "output_type": "execute_result",
          "data": {
            "text/plain": [
              "LSTM_Model(\n",
              "  (relu): ReLU()\n",
              "  (lstm): LSTM(1, 128, num_layers=4, batch_first=True)\n",
              "  (fc1): Linear(in_features=128, out_features=128, bias=True)\n",
              "  (fc2): Linear(in_features=128, out_features=1, bias=True)\n",
              ")"
            ]
          },
          "metadata": {},
          "execution_count": 7
        }
      ]
    },
    {
      "cell_type": "code",
      "source": [
        "with torch.no_grad():\n",
        "  prediction = model(prices).item()\n",
        "\n",
        "prediction"
      ],
      "metadata": {
        "colab": {
          "base_uri": "https://localhost:8080/"
        },
        "id": "Bv0UHmQWWvel",
        "outputId": "cd0baff1-8fc5-4b1b-e7c4-7a3e1a1c91e3"
      },
      "execution_count": null,
      "outputs": [
        {
          "output_type": "execute_result",
          "data": {
            "text/plain": [
              "128.60043334960938"
            ]
          },
          "metadata": {},
          "execution_count": 8
        }
      ]
    }
  ]
}